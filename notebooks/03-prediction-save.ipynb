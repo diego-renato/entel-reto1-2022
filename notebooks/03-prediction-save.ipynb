{
 "cells": [
  {
   "cell_type": "code",
   "execution_count": 1,
   "id": "2a2fc370-24f6-48ff-91d9-2c97e1a1e719",
   "metadata": {},
   "outputs": [],
   "source": [
    "import os\n",
    "os.chdir('C:\\\\Users\\\\2160001230\\\\OneDrive - Via Varejo S.A\\\\Área de Trabalho\\\\projeto\\\\entel-reto1-2022')"
   ]
  },
  {
   "cell_type": "code",
   "execution_count": 2,
   "id": "4fc55864-4d04-4f8c-b6c4-8a1491e7aa56",
   "metadata": {},
   "outputs": [],
   "source": [
    "import findspark\n",
    "findspark.init('C:/spark/spark-3.3.0-bin-hadoop3')"
   ]
  },
  {
   "cell_type": "code",
   "execution_count": 3,
   "id": "b020c249-5a12-40e5-862b-96626981312d",
   "metadata": {},
   "outputs": [],
   "source": [
    "from src.data_prep.utils import create_pyspark_session\n",
    "from src.main import excute_get_abt_save, execute_get_prediction_save"
   ]
  },
  {
   "cell_type": "code",
   "execution_count": 4,
   "id": "ece26aeb-0c81-4d8a-aa5e-a6e29ad359b5",
   "metadata": {},
   "outputs": [],
   "source": [
    "spark = create_pyspark_session()"
   ]
  },
  {
   "cell_type": "code",
   "execution_count": 7,
   "id": "48904446-4c22-4857-9f83-e7d677174db9",
   "metadata": {},
   "outputs": [
    {
     "name": "stderr",
     "output_type": "stream",
     "text": [
      "C:\\Users\\2160001230\\Anaconda3\\lib\\site-packages\\sklearn\\base.py:329: UserWarning: Trying to unpickle estimator Pipeline from version 1.1.1 when using version 1.0.2. This might lead to breaking code or invalid results. Use at your own risk. For more info please refer to:\n",
      "https://scikit-learn.org/stable/modules/model_persistence.html#security-maintainability-limitations\n",
      "  warnings.warn(\n",
      "C:\\Users\\2160001230\\Anaconda3\\lib\\site-packages\\sklearn\\base.py:329: UserWarning: Trying to unpickle estimator LabelEncoder from version 1.1.1 when using version 1.0.2. This might lead to breaking code or invalid results. Use at your own risk. For more info please refer to:\n",
      "https://scikit-learn.org/stable/modules/model_persistence.html#security-maintainability-limitations\n",
      "  warnings.warn(\n"
     ]
    },
    {
     "name": "stdout",
     "output_type": "stream",
     "text": [
      "Transformación hecha\n"
     ]
    }
   ],
   "source": [
    "execute_get_prediction_save(spark, 202204)"
   ]
  }
 ],
 "metadata": {
  "kernelspec": {
   "display_name": "Python 3.10.4 64-bit",
   "language": "python",
   "name": "python3"
  },
  "language_info": {
   "codemirror_mode": {
    "name": "ipython",
    "version": 3
   },
   "file_extension": ".py",
   "mimetype": "text/x-python",
   "name": "python",
   "nbconvert_exporter": "python",
   "pygments_lexer": "ipython3",
   "version": "3.10.4"
  },
  "vscode": {
   "interpreter": {
    "hash": "b7eae849e0edbb49574738e09b9768e5e5d4b09266836c8981f88cb943559730"
   }
  }
 },
 "nbformat": 4,
 "nbformat_minor": 5
}
