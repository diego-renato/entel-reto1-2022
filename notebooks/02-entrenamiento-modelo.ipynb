{
 "cells": [
  {
   "cell_type": "code",
   "execution_count": 15,
   "id": "190afc78",
   "metadata": {
    "execution": {
     "iopub.execute_input": "2022-08-14T19:14:04.880965Z",
     "iopub.status.busy": "2022-08-14T19:14:04.880219Z",
     "iopub.status.idle": "2022-08-14T19:14:06.875880Z",
     "shell.execute_reply": "2022-08-14T19:14:06.874643Z"
    },
    "papermill": {
     "duration": 2.005721,
     "end_time": "2022-08-14T19:14:06.878828",
     "exception": false,
     "start_time": "2022-08-14T19:14:04.873107",
     "status": "completed"
    },
    "tags": []
   },
   "outputs": [],
   "source": [
    "import warnings\n",
    "warnings.filterwarnings('ignore')\n",
    "\n",
    "# functions to preprocess and viz data\n",
    "import pandas as pd\n",
    "import numpy as np\n",
    "import os\n",
    "\n",
    "# function to process data\n",
    "from sklearn.metrics import confusion_matrix, make_scorer, f1_score\n",
    "from scipy.optimize import differential_evolution\n",
    "from sklearn.experimental import enable_iterative_imputer\n",
    "from sklearn.impute import SimpleImputer, KNNImputer, IterativeImputer\n",
    "from sklearn.model_selection import KFold, StratifiedKFold, train_test_split\n",
    "from sklearn import metrics\n",
    "from feature_engine.encoding import MeanEncoder, RareLabelEncoder, CountFrequencyEncoder, OneHotEncoder\n",
    "from feature_engine.selection import DropFeatures\n",
    "from feature_engine.imputation import AddMissingIndicator, CategoricalImputer\n",
    "from feature_engine.imputation import ArbitraryNumberImputer, MeanMedianImputer\n",
    "import category_encoders as ce\n",
    "from sklearn.pipeline import Pipeline\n",
    "from sklearn.mixture import GaussianMixture\n",
    "from src.ml.transformer import DataframeColumnDuplicateTransformer\n",
    "\n",
    "# models to import \n",
    "from sklearn.model_selection import RandomizedSearchCV\n",
    "from sklearn.linear_model import LogisticRegression\n",
    "from sklearn.ensemble import RandomForestClassifier, GradientBoostingClassifier\n",
    "from sklearn.ensemble import StackingClassifier\n",
    "from lightgbm import LGBMClassifier\n",
    "import joblib"
   ]
  },
  {
   "cell_type": "code",
   "execution_count": 6,
   "id": "c1e58d83",
   "metadata": {},
   "outputs": [],
   "source": [
    "import os\n",
    "os.chdir('C:\\\\Users\\\\2160001230\\\\OneDrive - Via Varejo S.A\\\\Área de Trabalho\\\\projeto\\\\entel-reto1-2022')"
   ]
  },
  {
   "cell_type": "code",
   "execution_count": 10,
   "id": "63f8870f",
   "metadata": {
    "execution": {
     "iopub.execute_input": "2022-08-14T19:14:06.892472Z",
     "iopub.status.busy": "2022-08-14T19:14:06.891468Z",
     "iopub.status.idle": "2022-08-14T19:14:27.018996Z",
     "shell.execute_reply": "2022-08-14T19:14:27.017476Z"
    },
    "papermill": {
     "duration": 20.137364,
     "end_time": "2022-08-14T19:14:27.021896",
     "exception": false,
     "start_time": "2022-08-14T19:14:06.884532",
     "status": "completed"
    },
    "tags": []
   },
   "outputs": [],
   "source": [
    "data_all = (pd.read_csv('./data/transformed_data/entel_book_features_reto1.csv/part-00000-d8e0c342-dd9b-4fb3-bcba-72b4b31db409-c000.csv')\n",
    "           )\n",
    "x_train = data_all.loc[data_all['NUMPERIODO'].isin([202201,202202,202203])].copy().drop('TARGET',axis=1)\n",
    "y_train = data_all.loc[data_all['NUMPERIODO'].isin([202201,202202,202203]), ['TARGET']]\n",
    "x_test = data_all.loc[data_all['NUMPERIODO']==202204].copy().drop('TARGET',axis=1)"
   ]
  },
  {
   "cell_type": "code",
   "execution_count": 11,
   "id": "b7f2523b",
   "metadata": {
    "execution": {
     "iopub.execute_input": "2022-08-14T19:14:27.035418Z",
     "iopub.status.busy": "2022-08-14T19:14:27.035007Z",
     "iopub.status.idle": "2022-08-14T19:14:27.049182Z",
     "shell.execute_reply": "2022-08-14T19:14:27.047964Z"
    },
    "papermill": {
     "duration": 0.023538,
     "end_time": "2022-08-14T19:14:27.051668",
     "exception": false,
     "start_time": "2022-08-14T19:14:27.028130",
     "status": "completed"
    },
    "tags": []
   },
   "outputs": [],
   "source": [
    "def train_get_score_cv(x_train, y_train, x_test, models, k, pipeline_engine, random_state = 199):\n",
    "\n",
    "    kf = StratifiedKFold(n_splits=k, shuffle = True, random_state = random_state)\n",
    "    result = np.zeros((len(models), 4))\n",
    "    result_pred_test = []\n",
    "    result_pred_train = []\n",
    "    \n",
    "    for i,model in enumerate(models.keys()):\n",
    "        \n",
    "        pred = []\n",
    "        pred_test = []\n",
    "        label_test = []\n",
    "        label_train = []\n",
    "        roc_auc = []\n",
    "        cut = []\n",
    "        learner = models[model]\n",
    "        for fold, (id_train, id_test) in enumerate(kf.split(x_train, y_train)):\n",
    "\n",
    "            Xt = x_train.iloc[id_train]; yt = y_train.iloc[id_train]\n",
    "            Xv = x_train.iloc[id_test]; yv = y_train.iloc[id_test]\n",
    "            xtest = x_test.copy()\n",
    "            if pipeline_engine != None:\n",
    "                preprocess_data_cv = pipeline_engine.fit(Xt, yt)\n",
    "    \n",
    "                Xt = preprocess_data_cv.transform(Xt)\n",
    "                Xv = preprocess_data_cv.transform(Xv)\n",
    "                xtest = preprocess_data_cv.transform(x_test)\n",
    "                \n",
    "            learner.fit(Xt, yt.values)\n",
    "            prediction = pd.Series(learner.predict_proba(Xv)[:, -1], index=Xv.index)  \n",
    "            roc_auc.append(metrics.roc_auc_score(y_train.loc[prediction.index], prediction))\n",
    "            prediction_test = pd.Series(learner.predict_proba(xtest)[:, -1], index=x_test.index, \n",
    "                                       name=\"fold_\" + str(fold))   \n",
    "            pred.append(prediction)\n",
    "            pred_test.append(prediction_test)\n",
    "                                 \n",
    "        pred = pd.concat(pred)\n",
    "        pred_test = pd.concat(pred_test, axis =1).mean(axis=1)\n",
    "        AUC = metrics.roc_auc_score(y_train.loc[pred.index], pred)\n",
    "        print(f'auc train oot: {AUC}, cv: {np.mean(roc_auc)} and std: {np.std(roc_auc)} ')\n",
    "    return pred_test\n"
   ]
  },
  {
   "cell_type": "code",
   "execution_count": 12,
   "id": "a42c21ed",
   "metadata": {
    "execution": {
     "iopub.execute_input": "2022-08-14T19:14:27.086462Z",
     "iopub.status.busy": "2022-08-14T19:14:27.085649Z",
     "iopub.status.idle": "2022-08-14T19:14:27.512286Z",
     "shell.execute_reply": "2022-08-14T19:14:27.511112Z"
    },
    "papermill": {
     "duration": 0.436029,
     "end_time": "2022-08-14T19:14:27.515026",
     "exception": false,
     "start_time": "2022-08-14T19:14:27.078997",
     "status": "completed"
    },
    "tags": []
   },
   "outputs": [],
   "source": [
    "random_state=123\n",
    "to_drop = ['nro_telefono_hash', 'NUMPERIODO', 'nro_documento_hash']\n",
    "cat_var = x_train.copy().drop(to_drop, axis=1).select_dtypes('object').columns.to_list()\n",
    "\n",
    "arbitrary_imputer = CategoricalImputer(variables=cat_var)\n",
    "rare_encoder = RareLabelEncoder(tol=0.1, n_categories=2, variables=cat_var,\n",
    "                           replace_with=-999, ignore_format = True)\n",
    "duplicate_columns = DataframeColumnDuplicateTransformer(columns=cat_var)\n",
    "mean_encoder = MeanEncoder(variables=cat_var, ignore_format = True)\n",
    "count_encoder = ce.CountEncoder(cols=[column_i +'_count' for column_i in cat_var])\n",
    "drop_Features = DropFeatures(features_to_drop = to_drop)\n",
    "\n",
    "pipe = Pipeline([('ReplaceNa', arbitrary_imputer),\n",
    "                 ('RareLabelEncoder', rare_encoder),\n",
    "                 ('DataframeFunctionTransformer', duplicate_columns),\n",
    "                  ('MeanEncoder', mean_encoder),\n",
    "                  ('CountEncoder',count_encoder),\n",
    "                 ('DropFeatures', drop_Features)])\n"
   ]
  },
  {
   "cell_type": "markdown",
   "id": "fa44e455",
   "metadata": {
    "papermill": {
     "duration": 0.005081,
     "end_time": "2022-08-14T19:14:27.525619",
     "exception": false,
     "start_time": "2022-08-14T19:14:27.520538",
     "status": "completed"
    },
    "tags": []
   },
   "source": [
    "80 variables"
   ]
  },
  {
   "cell_type": "code",
   "execution_count": 8,
   "id": "a3e29066",
   "metadata": {
    "execution": {
     "iopub.execute_input": "2022-08-14T19:14:27.538715Z",
     "iopub.status.busy": "2022-08-14T19:14:27.538303Z",
     "iopub.status.idle": "2022-08-14T19:14:27.546656Z",
     "shell.execute_reply": "2022-08-14T19:14:27.545486Z"
    },
    "papermill": {
     "duration": 0.017546,
     "end_time": "2022-08-14T19:14:27.548934",
     "exception": false,
     "start_time": "2022-08-14T19:14:27.531388",
     "status": "completed"
    },
    "tags": []
   },
   "outputs": [],
   "source": [
    "model_pipe ={'lgbm': Pipeline( [\n",
    "         ('pipe1', pipe),\n",
    "         ('lgbm',LGBMClassifier(**{'learning_rate': 0.028811377742693784, 'n_estimators': 1965, 'num_leaves': 32,\n",
    "                                   'max_depth': 3, 'reg_alpha': 45.10805558634257, 'reg_lambda': 51.407152629520105,\n",
    "                                   'min_data_in_leaf': 155, 'max_bin': 967, 'feature_fraction': 0.9654714978974305}))\n",
    "]) }"
   ]
  },
  {
   "cell_type": "code",
   "execution_count": 9,
   "id": "817191cd",
   "metadata": {
    "execution": {
     "iopub.execute_input": "2022-08-14T19:14:27.561687Z",
     "iopub.status.busy": "2022-08-14T19:14:27.560969Z",
     "iopub.status.idle": "2022-08-14T19:27:58.192136Z",
     "shell.execute_reply": "2022-08-14T19:27:58.189027Z"
    },
    "papermill": {
     "duration": 810.645472,
     "end_time": "2022-08-14T19:27:58.199845",
     "exception": false,
     "start_time": "2022-08-14T19:14:27.554373",
     "status": "completed"
    },
    "tags": []
   },
   "outputs": [
    {
     "name": "stdout",
     "output_type": "stream",
     "text": [
      "[LightGBM] [Warning] feature_fraction is set=0.9654714978974305, colsample_bytree=1.0 will be ignored. Current value: feature_fraction=0.9654714978974305\n",
      "[LightGBM] [Warning] min_data_in_leaf is set=155, min_child_samples=20 will be ignored. Current value: min_data_in_leaf=155\n",
      "[LightGBM] [Warning] feature_fraction is set=0.9654714978974305, colsample_bytree=1.0 will be ignored. Current value: feature_fraction=0.9654714978974305\n",
      "[LightGBM] [Warning] min_data_in_leaf is set=155, min_child_samples=20 will be ignored. Current value: min_data_in_leaf=155\n",
      "[LightGBM] [Warning] feature_fraction is set=0.9654714978974305, colsample_bytree=1.0 will be ignored. Current value: feature_fraction=0.9654714978974305\n",
      "[LightGBM] [Warning] min_data_in_leaf is set=155, min_child_samples=20 will be ignored. Current value: min_data_in_leaf=155\n",
      "[LightGBM] [Warning] feature_fraction is set=0.9654714978974305, colsample_bytree=1.0 will be ignored. Current value: feature_fraction=0.9654714978974305\n",
      "[LightGBM] [Warning] min_data_in_leaf is set=155, min_child_samples=20 will be ignored. Current value: min_data_in_leaf=155\n",
      "[LightGBM] [Warning] feature_fraction is set=0.9654714978974305, colsample_bytree=1.0 will be ignored. Current value: feature_fraction=0.9654714978974305\n",
      "[LightGBM] [Warning] min_data_in_leaf is set=155, min_child_samples=20 will be ignored. Current value: min_data_in_leaf=155\n",
      "auc train oot: 0.7986489623314398, cv: 0.7986822450398033 and std: 0.003619471682540225 \n"
     ]
    }
   ],
   "source": [
    "y_test = train_get_score_cv(x_train, y_train, x_test, model_pipe, pipeline_engine = None, k=5)"
   ]
  },
  {
   "cell_type": "code",
   "execution_count": 10,
   "id": "750a8c58",
   "metadata": {
    "execution": {
     "iopub.execute_input": "2022-08-14T19:27:58.216258Z",
     "iopub.status.busy": "2022-08-14T19:27:58.215700Z",
     "iopub.status.idle": "2022-08-14T19:27:58.260189Z",
     "shell.execute_reply": "2022-08-14T19:27:58.258921Z"
    },
    "papermill": {
     "duration": 0.057003,
     "end_time": "2022-08-14T19:27:58.263253",
     "exception": false,
     "start_time": "2022-08-14T19:27:58.206250",
     "status": "completed"
    },
    "tags": []
   },
   "outputs": [],
   "source": [
    "prediction = x_test[['nro_telefono_hash']].join(y_test.rename('TARGET')).set_index('nro_telefono_hash')"
   ]
  },
  {
   "cell_type": "code",
   "execution_count": 11,
   "id": "24ee3192",
   "metadata": {
    "execution": {
     "iopub.execute_input": "2022-08-14T19:27:58.278435Z",
     "iopub.status.busy": "2022-08-14T19:27:58.277950Z",
     "iopub.status.idle": "2022-08-14T19:27:58.876413Z",
     "shell.execute_reply": "2022-08-14T19:27:58.875061Z"
    },
    "papermill": {
     "duration": 0.608966,
     "end_time": "2022-08-14T19:27:58.879222",
     "exception": false,
     "start_time": "2022-08-14T19:27:58.270256",
     "status": "completed"
    },
    "tags": []
   },
   "outputs": [],
   "source": [
    "prediction.to_csv('score_v6.csv')"
   ]
  },
  {
   "cell_type": "code",
   "execution_count": 13,
   "id": "30652adc",
   "metadata": {
    "execution": {
     "iopub.execute_input": "2022-08-14T19:27:58.892790Z",
     "iopub.status.busy": "2022-08-14T19:27:58.892357Z",
     "iopub.status.idle": "2022-08-14T19:27:58.900838Z",
     "shell.execute_reply": "2022-08-14T19:27:58.899613Z"
    },
    "papermill": {
     "duration": 0.018458,
     "end_time": "2022-08-14T19:27:58.903530",
     "exception": false,
     "start_time": "2022-08-14T19:27:58.885072",
     "status": "completed"
    },
    "tags": []
   },
   "outputs": [],
   "source": [
    "model = Pipeline( [\n",
    "         ('pipe1', pipe),\n",
    "         ('lgbm',LGBMClassifier(**{'random_state':12345,'learning_rate': 0.04124640777998017, 'n_estimators': 976, \n",
    "                                   'num_leaves': 14, 'max_depth': 3, 'reg_alpha': 44.82058359639354,\n",
    "                                   'reg_lambda': 56.82345490694187, 'min_data_in_leaf': 557, 'max_bin': 1103}))\n",
    "     ]) "
   ]
  },
  {
   "cell_type": "code",
   "execution_count": 14,
   "id": "6e94a592",
   "metadata": {
    "execution": {
     "iopub.execute_input": "2022-08-14T19:27:58.917582Z",
     "iopub.status.busy": "2022-08-14T19:27:58.916978Z",
     "iopub.status.idle": "2022-08-14T19:29:44.023255Z",
     "shell.execute_reply": "2022-08-14T19:29:44.022358Z"
    },
    "papermill": {
     "duration": 105.123585,
     "end_time": "2022-08-14T19:29:44.032956",
     "exception": false,
     "start_time": "2022-08-14T19:27:58.909371",
     "status": "completed"
    },
    "tags": []
   },
   "outputs": [
    {
     "name": "stdout",
     "output_type": "stream",
     "text": [
      "[LightGBM] [Warning] min_data_in_leaf is set=557, min_child_samples=20 will be ignored. Current value: min_data_in_leaf=557\n"
     ]
    },
    {
     "data": {
      "text/html": [
       "<style>#sk-container-id-1 {color: black;background-color: white;}#sk-container-id-1 pre{padding: 0;}#sk-container-id-1 div.sk-toggleable {background-color: white;}#sk-container-id-1 label.sk-toggleable__label {cursor: pointer;display: block;width: 100%;margin-bottom: 0;padding: 0.3em;box-sizing: border-box;text-align: center;}#sk-container-id-1 label.sk-toggleable__label-arrow:before {content: \"▸\";float: left;margin-right: 0.25em;color: #696969;}#sk-container-id-1 label.sk-toggleable__label-arrow:hover:before {color: black;}#sk-container-id-1 div.sk-estimator:hover label.sk-toggleable__label-arrow:before {color: black;}#sk-container-id-1 div.sk-toggleable__content {max-height: 0;max-width: 0;overflow: hidden;text-align: left;background-color: #f0f8ff;}#sk-container-id-1 div.sk-toggleable__content pre {margin: 0.2em;color: black;border-radius: 0.25em;background-color: #f0f8ff;}#sk-container-id-1 input.sk-toggleable__control:checked~div.sk-toggleable__content {max-height: 200px;max-width: 100%;overflow: auto;}#sk-container-id-1 input.sk-toggleable__control:checked~label.sk-toggleable__label-arrow:before {content: \"▾\";}#sk-container-id-1 div.sk-estimator input.sk-toggleable__control:checked~label.sk-toggleable__label {background-color: #d4ebff;}#sk-container-id-1 div.sk-label input.sk-toggleable__control:checked~label.sk-toggleable__label {background-color: #d4ebff;}#sk-container-id-1 input.sk-hidden--visually {border: 0;clip: rect(1px 1px 1px 1px);clip: rect(1px, 1px, 1px, 1px);height: 1px;margin: -1px;overflow: hidden;padding: 0;position: absolute;width: 1px;}#sk-container-id-1 div.sk-estimator {font-family: monospace;background-color: #f0f8ff;border: 1px dotted black;border-radius: 0.25em;box-sizing: border-box;margin-bottom: 0.5em;}#sk-container-id-1 div.sk-estimator:hover {background-color: #d4ebff;}#sk-container-id-1 div.sk-parallel-item::after {content: \"\";width: 100%;border-bottom: 1px solid gray;flex-grow: 1;}#sk-container-id-1 div.sk-label:hover label.sk-toggleable__label {background-color: #d4ebff;}#sk-container-id-1 div.sk-serial::before {content: \"\";position: absolute;border-left: 1px solid gray;box-sizing: border-box;top: 0;bottom: 0;left: 50%;z-index: 0;}#sk-container-id-1 div.sk-serial {display: flex;flex-direction: column;align-items: center;background-color: white;padding-right: 0.2em;padding-left: 0.2em;position: relative;}#sk-container-id-1 div.sk-item {position: relative;z-index: 1;}#sk-container-id-1 div.sk-parallel {display: flex;align-items: stretch;justify-content: center;background-color: white;position: relative;}#sk-container-id-1 div.sk-item::before, #sk-container-id-1 div.sk-parallel-item::before {content: \"\";position: absolute;border-left: 1px solid gray;box-sizing: border-box;top: 0;bottom: 0;left: 50%;z-index: -1;}#sk-container-id-1 div.sk-parallel-item {display: flex;flex-direction: column;z-index: 1;position: relative;background-color: white;}#sk-container-id-1 div.sk-parallel-item:first-child::after {align-self: flex-end;width: 50%;}#sk-container-id-1 div.sk-parallel-item:last-child::after {align-self: flex-start;width: 50%;}#sk-container-id-1 div.sk-parallel-item:only-child::after {width: 0;}#sk-container-id-1 div.sk-dashed-wrapped {border: 1px dashed gray;margin: 0 0.4em 0.5em 0.4em;box-sizing: border-box;padding-bottom: 0.4em;background-color: white;}#sk-container-id-1 div.sk-label label {font-family: monospace;font-weight: bold;display: inline-block;line-height: 1.2em;}#sk-container-id-1 div.sk-label-container {text-align: center;}#sk-container-id-1 div.sk-container {/* jupyter's `normalize.less` sets `[hidden] { display: none; }` but bootstrap.min.css set `[hidden] { display: none !important; }` so we also need the `!important` here to be able to override the default hidden behavior on the sphinx rendered scikit-learn.org. See: https://github.com/scikit-learn/scikit-learn/issues/21755 */display: inline-block !important;position: relative;}#sk-container-id-1 div.sk-text-repr-fallback {display: none;}</style><div id=\"sk-container-id-1\" class=\"sk-top-container\"><div class=\"sk-text-repr-fallback\"><pre>Pipeline(steps=[(&#x27;pipe1&#x27;,\n",
       "                 Pipeline(steps=[(&#x27;ReplaceNa&#x27;,\n",
       "                                  CategoricalImputer(variables=[&#x27;TIPO_ADQ&#x27;,\n",
       "                                                                &#x27;SCORECAT&#x27;,\n",
       "                                                                &#x27;MARCA&#x27;,\n",
       "                                                                &#x27;MODELO&#x27;,\n",
       "                                                                &#x27;NUEVA_GAMMA&#x27;,\n",
       "                                                                &#x27;LANZAMIENTO&#x27;,\n",
       "                                                                &#x27;OS&#x27;,\n",
       "                                                                &#x27;DEVICE_TYPE&#x27;,\n",
       "                                                                &#x27;GIRO&#x27;,\n",
       "                                                                &#x27;SUBGIRO&#x27;])),\n",
       "                                 (&#x27;RareLabelEncoder&#x27;,\n",
       "                                  RareLabelEncoder(ignore_format=True,\n",
       "                                                   n_categories=2,\n",
       "                                                   replace_with=-999, tol=0.1,\n",
       "                                                   variables=[&#x27;TIPO_ADQ&#x27;,\n",
       "                                                              &#x27;SCORECAT&#x27;,\n",
       "                                                              &#x27;MARCA&#x27;, &#x27;MODELO&#x27;,\n",
       "                                                              &#x27;NUEVA_GAMMA&#x27;...\n",
       "                                               combine_min_nan_groups=True)),\n",
       "                                 (&#x27;DropFeatures&#x27;,\n",
       "                                  DropFeatures(features_to_drop=[&#x27;nro_telefono_hash&#x27;,\n",
       "                                                                 &#x27;NUMPERIODO&#x27;,\n",
       "                                                                 &#x27;nro_documento_hash&#x27;]))])),\n",
       "                (&#x27;lgbm&#x27;,\n",
       "                 LGBMClassifier(learning_rate=0.04124640777998017, max_bin=1103,\n",
       "                                max_depth=3, min_data_in_leaf=557,\n",
       "                                n_estimators=976, num_leaves=14,\n",
       "                                random_state=12345, reg_alpha=44.82058359639354,\n",
       "                                reg_lambda=56.82345490694187))])</pre><b>In a Jupyter environment, please rerun this cell to show the HTML representation or trust the notebook. <br />On GitHub, the HTML representation is unable to render, please try loading this page with nbviewer.org.</b></div><div class=\"sk-container\" hidden><div class=\"sk-item sk-dashed-wrapped\"><div class=\"sk-label-container\"><div class=\"sk-label sk-toggleable\"><input class=\"sk-toggleable__control sk-hidden--visually\" id=\"sk-estimator-id-1\" type=\"checkbox\" ><label for=\"sk-estimator-id-1\" class=\"sk-toggleable__label sk-toggleable__label-arrow\">Pipeline</label><div class=\"sk-toggleable__content\"><pre>Pipeline(steps=[(&#x27;pipe1&#x27;,\n",
       "                 Pipeline(steps=[(&#x27;ReplaceNa&#x27;,\n",
       "                                  CategoricalImputer(variables=[&#x27;TIPO_ADQ&#x27;,\n",
       "                                                                &#x27;SCORECAT&#x27;,\n",
       "                                                                &#x27;MARCA&#x27;,\n",
       "                                                                &#x27;MODELO&#x27;,\n",
       "                                                                &#x27;NUEVA_GAMMA&#x27;,\n",
       "                                                                &#x27;LANZAMIENTO&#x27;,\n",
       "                                                                &#x27;OS&#x27;,\n",
       "                                                                &#x27;DEVICE_TYPE&#x27;,\n",
       "                                                                &#x27;GIRO&#x27;,\n",
       "                                                                &#x27;SUBGIRO&#x27;])),\n",
       "                                 (&#x27;RareLabelEncoder&#x27;,\n",
       "                                  RareLabelEncoder(ignore_format=True,\n",
       "                                                   n_categories=2,\n",
       "                                                   replace_with=-999, tol=0.1,\n",
       "                                                   variables=[&#x27;TIPO_ADQ&#x27;,\n",
       "                                                              &#x27;SCORECAT&#x27;,\n",
       "                                                              &#x27;MARCA&#x27;, &#x27;MODELO&#x27;,\n",
       "                                                              &#x27;NUEVA_GAMMA&#x27;...\n",
       "                                               combine_min_nan_groups=True)),\n",
       "                                 (&#x27;DropFeatures&#x27;,\n",
       "                                  DropFeatures(features_to_drop=[&#x27;nro_telefono_hash&#x27;,\n",
       "                                                                 &#x27;NUMPERIODO&#x27;,\n",
       "                                                                 &#x27;nro_documento_hash&#x27;]))])),\n",
       "                (&#x27;lgbm&#x27;,\n",
       "                 LGBMClassifier(learning_rate=0.04124640777998017, max_bin=1103,\n",
       "                                max_depth=3, min_data_in_leaf=557,\n",
       "                                n_estimators=976, num_leaves=14,\n",
       "                                random_state=12345, reg_alpha=44.82058359639354,\n",
       "                                reg_lambda=56.82345490694187))])</pre></div></div></div><div class=\"sk-serial\"><div class=\"sk-item\"><div class=\"sk-label-container\"><div class=\"sk-label sk-toggleable\"><input class=\"sk-toggleable__control sk-hidden--visually\" id=\"sk-estimator-id-2\" type=\"checkbox\" ><label for=\"sk-estimator-id-2\" class=\"sk-toggleable__label sk-toggleable__label-arrow\">pipe1: Pipeline</label><div class=\"sk-toggleable__content\"><pre>Pipeline(steps=[(&#x27;ReplaceNa&#x27;,\n",
       "                 CategoricalImputer(variables=[&#x27;TIPO_ADQ&#x27;, &#x27;SCORECAT&#x27;, &#x27;MARCA&#x27;,\n",
       "                                               &#x27;MODELO&#x27;, &#x27;NUEVA_GAMMA&#x27;,\n",
       "                                               &#x27;LANZAMIENTO&#x27;, &#x27;OS&#x27;,\n",
       "                                               &#x27;DEVICE_TYPE&#x27;, &#x27;GIRO&#x27;,\n",
       "                                               &#x27;SUBGIRO&#x27;])),\n",
       "                (&#x27;RareLabelEncoder&#x27;,\n",
       "                 RareLabelEncoder(ignore_format=True, n_categories=2,\n",
       "                                  replace_with=-999, tol=0.1,\n",
       "                                  variables=[&#x27;TIPO_ADQ&#x27;, &#x27;SCORECAT&#x27;, &#x27;MARCA&#x27;,\n",
       "                                             &#x27;MODELO&#x27;, &#x27;NUEVA_GAMMA&#x27;,\n",
       "                                             &#x27;LANZAMIENTO&#x27;, &#x27;OS&#x27;, &#x27;DEVI...\n",
       "                                        &#x27;OS&#x27;, &#x27;DEVICE_TYPE&#x27;, &#x27;GIRO&#x27;,\n",
       "                                        &#x27;SUBGIRO&#x27;])),\n",
       "                (&#x27;CountEncoder&#x27;,\n",
       "                 CountEncoder(cols=[&#x27;TIPO_ADQ_count&#x27;, &#x27;SCORECAT_count&#x27;,\n",
       "                                    &#x27;MARCA_count&#x27;, &#x27;MODELO_count&#x27;,\n",
       "                                    &#x27;NUEVA_GAMMA_count&#x27;, &#x27;LANZAMIENTO_count&#x27;,\n",
       "                                    &#x27;OS_count&#x27;, &#x27;DEVICE_TYPE_count&#x27;,\n",
       "                                    &#x27;GIRO_count&#x27;, &#x27;SUBGIRO_count&#x27;],\n",
       "                              combine_min_nan_groups=True)),\n",
       "                (&#x27;DropFeatures&#x27;,\n",
       "                 DropFeatures(features_to_drop=[&#x27;nro_telefono_hash&#x27;,\n",
       "                                                &#x27;NUMPERIODO&#x27;,\n",
       "                                                &#x27;nro_documento_hash&#x27;]))])</pre></div></div></div><div class=\"sk-serial\"><div class=\"sk-item\"><div class=\"sk-estimator sk-toggleable\"><input class=\"sk-toggleable__control sk-hidden--visually\" id=\"sk-estimator-id-3\" type=\"checkbox\" ><label for=\"sk-estimator-id-3\" class=\"sk-toggleable__label sk-toggleable__label-arrow\">CategoricalImputer</label><div class=\"sk-toggleable__content\"><pre>CategoricalImputer(variables=[&#x27;TIPO_ADQ&#x27;, &#x27;SCORECAT&#x27;, &#x27;MARCA&#x27;, &#x27;MODELO&#x27;,\n",
       "                              &#x27;NUEVA_GAMMA&#x27;, &#x27;LANZAMIENTO&#x27;, &#x27;OS&#x27;, &#x27;DEVICE_TYPE&#x27;,\n",
       "                              &#x27;GIRO&#x27;, &#x27;SUBGIRO&#x27;])</pre></div></div></div><div class=\"sk-item\"><div class=\"sk-estimator sk-toggleable\"><input class=\"sk-toggleable__control sk-hidden--visually\" id=\"sk-estimator-id-4\" type=\"checkbox\" ><label for=\"sk-estimator-id-4\" class=\"sk-toggleable__label sk-toggleable__label-arrow\">RareLabelEncoder</label><div class=\"sk-toggleable__content\"><pre>RareLabelEncoder(ignore_format=True, n_categories=2, replace_with=-999, tol=0.1,\n",
       "                 variables=[&#x27;TIPO_ADQ&#x27;, &#x27;SCORECAT&#x27;, &#x27;MARCA&#x27;, &#x27;MODELO&#x27;,\n",
       "                            &#x27;NUEVA_GAMMA&#x27;, &#x27;LANZAMIENTO&#x27;, &#x27;OS&#x27;, &#x27;DEVICE_TYPE&#x27;,\n",
       "                            &#x27;GIRO&#x27;, &#x27;SUBGIRO&#x27;])</pre></div></div></div><div class=\"sk-item\"><div class=\"sk-estimator sk-toggleable\"><input class=\"sk-toggleable__control sk-hidden--visually\" id=\"sk-estimator-id-5\" type=\"checkbox\" ><label for=\"sk-estimator-id-5\" class=\"sk-toggleable__label sk-toggleable__label-arrow\">DataframeColumnDuplicateTransformer</label><div class=\"sk-toggleable__content\"><pre>&lt;src.ml.transformer.DataframeColumnDuplicateTransformer object at 0x0000013D181AF490&gt;</pre></div></div></div><div class=\"sk-item\"><div class=\"sk-estimator sk-toggleable\"><input class=\"sk-toggleable__control sk-hidden--visually\" id=\"sk-estimator-id-6\" type=\"checkbox\" ><label for=\"sk-estimator-id-6\" class=\"sk-toggleable__label sk-toggleable__label-arrow\">MeanEncoder</label><div class=\"sk-toggleable__content\"><pre>MeanEncoder(ignore_format=True,\n",
       "            variables=[&#x27;TIPO_ADQ&#x27;, &#x27;SCORECAT&#x27;, &#x27;MARCA&#x27;, &#x27;MODELO&#x27;, &#x27;NUEVA_GAMMA&#x27;,\n",
       "                       &#x27;LANZAMIENTO&#x27;, &#x27;OS&#x27;, &#x27;DEVICE_TYPE&#x27;, &#x27;GIRO&#x27;, &#x27;SUBGIRO&#x27;])</pre></div></div></div><div class=\"sk-item\"><div class=\"sk-estimator sk-toggleable\"><input class=\"sk-toggleable__control sk-hidden--visually\" id=\"sk-estimator-id-7\" type=\"checkbox\" ><label for=\"sk-estimator-id-7\" class=\"sk-toggleable__label sk-toggleable__label-arrow\">CountEncoder</label><div class=\"sk-toggleable__content\"><pre>CountEncoder(cols=[&#x27;TIPO_ADQ_count&#x27;, &#x27;SCORECAT_count&#x27;, &#x27;MARCA_count&#x27;,\n",
       "                   &#x27;MODELO_count&#x27;, &#x27;NUEVA_GAMMA_count&#x27;, &#x27;LANZAMIENTO_count&#x27;,\n",
       "                   &#x27;OS_count&#x27;, &#x27;DEVICE_TYPE_count&#x27;, &#x27;GIRO_count&#x27;,\n",
       "                   &#x27;SUBGIRO_count&#x27;],\n",
       "             combine_min_nan_groups=True)</pre></div></div></div><div class=\"sk-item\"><div class=\"sk-estimator sk-toggleable\"><input class=\"sk-toggleable__control sk-hidden--visually\" id=\"sk-estimator-id-8\" type=\"checkbox\" ><label for=\"sk-estimator-id-8\" class=\"sk-toggleable__label sk-toggleable__label-arrow\">DropFeatures</label><div class=\"sk-toggleable__content\"><pre>DropFeatures(features_to_drop=[&#x27;nro_telefono_hash&#x27;, &#x27;NUMPERIODO&#x27;,\n",
       "                               &#x27;nro_documento_hash&#x27;])</pre></div></div></div></div></div><div class=\"sk-item\"><div class=\"sk-estimator sk-toggleable\"><input class=\"sk-toggleable__control sk-hidden--visually\" id=\"sk-estimator-id-9\" type=\"checkbox\" ><label for=\"sk-estimator-id-9\" class=\"sk-toggleable__label sk-toggleable__label-arrow\">LGBMClassifier</label><div class=\"sk-toggleable__content\"><pre>LGBMClassifier(learning_rate=0.04124640777998017, max_bin=1103, max_depth=3,\n",
       "               min_data_in_leaf=557, n_estimators=976, num_leaves=14,\n",
       "               random_state=12345, reg_alpha=44.82058359639354,\n",
       "               reg_lambda=56.82345490694187)</pre></div></div></div></div></div></div></div>"
      ],
      "text/plain": [
       "Pipeline(steps=[('pipe1',\n",
       "                 Pipeline(steps=[('ReplaceNa',\n",
       "                                  CategoricalImputer(variables=['TIPO_ADQ',\n",
       "                                                                'SCORECAT',\n",
       "                                                                'MARCA',\n",
       "                                                                'MODELO',\n",
       "                                                                'NUEVA_GAMMA',\n",
       "                                                                'LANZAMIENTO',\n",
       "                                                                'OS',\n",
       "                                                                'DEVICE_TYPE',\n",
       "                                                                'GIRO',\n",
       "                                                                'SUBGIRO'])),\n",
       "                                 ('RareLabelEncoder',\n",
       "                                  RareLabelEncoder(ignore_format=True,\n",
       "                                                   n_categories=2,\n",
       "                                                   replace_with=-999, tol=0.1,\n",
       "                                                   variables=['TIPO_ADQ',\n",
       "                                                              'SCORECAT',\n",
       "                                                              'MARCA', 'MODELO',\n",
       "                                                              'NUEVA_GAMMA'...\n",
       "                                               combine_min_nan_groups=True)),\n",
       "                                 ('DropFeatures',\n",
       "                                  DropFeatures(features_to_drop=['nro_telefono_hash',\n",
       "                                                                 'NUMPERIODO',\n",
       "                                                                 'nro_documento_hash']))])),\n",
       "                ('lgbm',\n",
       "                 LGBMClassifier(learning_rate=0.04124640777998017, max_bin=1103,\n",
       "                                max_depth=3, min_data_in_leaf=557,\n",
       "                                n_estimators=976, num_leaves=14,\n",
       "                                random_state=12345, reg_alpha=44.82058359639354,\n",
       "                                reg_lambda=56.82345490694187))])"
      ]
     },
     "execution_count": 14,
     "metadata": {},
     "output_type": "execute_result"
    }
   ],
   "source": [
    "model.fit(x_train, y_train.values)"
   ]
  },
  {
   "cell_type": "code",
   "execution_count": 16,
   "id": "7d4f3ea6",
   "metadata": {
    "execution": {
     "iopub.execute_input": "2022-08-14T19:29:44.048134Z",
     "iopub.status.busy": "2022-08-14T19:29:44.047179Z",
     "iopub.status.idle": "2022-08-14T19:29:44.079144Z",
     "shell.execute_reply": "2022-08-14T19:29:44.078175Z"
    },
    "papermill": {
     "duration": 0.042746,
     "end_time": "2022-08-14T19:29:44.082166",
     "exception": false,
     "start_time": "2022-08-14T19:29:44.039420",
     "status": "completed"
    },
    "tags": []
   },
   "outputs": [
    {
     "data": {
      "text/plain": [
       "['models/pipeline_model.pkl']"
      ]
     },
     "execution_count": 16,
     "metadata": {},
     "output_type": "execute_result"
    }
   ],
   "source": [
    "joblib.dump(model, 'models/pipeline_model.pkl')"
   ]
  },
  {
   "cell_type": "code",
   "execution_count": 15,
   "id": "a5fc2571",
   "metadata": {
    "execution": {
     "iopub.execute_input": "2022-08-14T19:29:44.099106Z",
     "iopub.status.busy": "2022-08-14T19:29:44.097508Z",
     "iopub.status.idle": "2022-08-14T19:29:51.245142Z",
     "shell.execute_reply": "2022-08-14T19:29:51.243613Z"
    },
    "papermill": {
     "duration": 7.158997,
     "end_time": "2022-08-14T19:29:51.248356",
     "exception": false,
     "start_time": "2022-08-14T19:29:44.089359",
     "status": "completed"
    },
    "tags": []
   },
   "outputs": [],
   "source": [
    "prediction = x_test[['nro_telefono_hash']].join( pd.Series(model.predict_proba(x_test)[:, -1], index=x_test.index).rename('TARGET')).set_index('nro_telefono_hash')\n",
    "prediction.to_csv('score_v7.csv')"
   ]
  }
 ],
 "metadata": {
  "kernelspec": {
   "display_name": "Python 3.10.4 64-bit",
   "language": "python",
   "name": "python3"
  },
  "language_info": {
   "codemirror_mode": {
    "name": "ipython",
    "version": 3
   },
   "file_extension": ".py",
   "mimetype": "text/x-python",
   "name": "python",
   "nbconvert_exporter": "python",
   "pygments_lexer": "ipython3",
   "version": "3.10.4"
  },
  "papermill": {
   "default_parameters": {},
   "duration": 973.11747,
   "end_time": "2022-08-14T19:29:52.685161",
   "environment_variables": {},
   "exception": null,
   "input_path": "__notebook__.ipynb",
   "output_path": "__notebook__.ipynb",
   "parameters": {},
   "start_time": "2022-08-14T19:13:39.567691",
   "version": "2.3.4"
  },
  "vscode": {
   "interpreter": {
    "hash": "b7eae849e0edbb49574738e09b9768e5e5d4b09266836c8981f88cb943559730"
   }
  }
 },
 "nbformat": 4,
 "nbformat_minor": 5
}
