{
 "cells": [
  {
   "cell_type": "code",
   "execution_count": 1,
   "id": "2a2fc370-24f6-48ff-91d9-2c97e1a1e719",
   "metadata": {},
   "outputs": [],
   "source": [
    "import os\n",
    "os.chdir('C:\\\\Users\\\\2160001230\\\\OneDrive - Via Varejo S.A\\\\Área de Trabalho\\\\projeto\\\\entel-reto1-2022')"
   ]
  },
  {
   "cell_type": "code",
   "execution_count": 2,
   "id": "4fc55864-4d04-4f8c-b6c4-8a1491e7aa56",
   "metadata": {},
   "outputs": [],
   "source": [
    "import findspark\n",
    "findspark.init('C:/spark/spark-3.3.0-bin-hadoop3')"
   ]
  },
  {
   "cell_type": "code",
   "execution_count": 3,
   "id": "b020c249-5a12-40e5-862b-96626981312d",
   "metadata": {},
   "outputs": [],
   "source": [
    "from src.data_prep.utils import create_pyspark_session\n",
    "from src.main import excute_get_abt_save, execute_get_prediction_save"
   ]
  },
  {
   "cell_type": "code",
   "execution_count": 4,
   "id": "ece26aeb-0c81-4d8a-aa5e-a6e29ad359b5",
   "metadata": {},
   "outputs": [],
   "source": [
    "spark = create_pyspark_session()"
   ]
  },
  {
   "cell_type": "code",
   "execution_count": 5,
   "id": "82fbadee-4fb4-437d-a009-14a602144664",
   "metadata": {},
   "outputs": [],
   "source": [
    "excute_get_abt_save(spark)"
   ]
  }
 ],
 "metadata": {
  "kernelspec": {
   "display_name": "Python 3 (ipykernel)",
   "language": "python",
   "name": "python3"
  },
  "language_info": {
   "codemirror_mode": {
    "name": "ipython",
    "version": 3
   },
   "file_extension": ".py",
   "mimetype": "text/x-python",
   "name": "python",
   "nbconvert_exporter": "python",
   "pygments_lexer": "ipython3",
   "version": "3.9.12"
  }
 },
 "nbformat": 4,
 "nbformat_minor": 5
}
